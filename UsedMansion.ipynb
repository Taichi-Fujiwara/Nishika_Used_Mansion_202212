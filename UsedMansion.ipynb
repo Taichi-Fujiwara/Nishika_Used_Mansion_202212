{
  "nbformat": 4,
  "nbformat_minor": 0,
  "metadata": {
    "language_info": {
      "codemirror_mode": {
        "name": "ipython",
        "version": 3
      },
      "file_extension": ".py",
      "mimetype": "text/x-python",
      "name": "python",
      "nbconvert_exporter": "python",
      "pygments_lexer": "ipython3",
      "version": "3.7.7-final"
    },
    "orig_nbformat": 2,
    "kernelspec": {
      "name": "python3",
      "display_name": "Python 3",
      "language": "python"
    },
    "colab": {
      "provenance": [],
      "include_colab_link": true
    }
  },
  "cells": [
    {
      "cell_type": "markdown",
      "metadata": {
        "id": "view-in-github",
        "colab_type": "text"
      },
      "source": [
        "<a href=\"https://colab.research.google.com/github/Taichi-Fujiwara/Nishika_Used_Mansion_202212/blob/main/UsedMansion.ipynb\" target=\"_parent\"><img src=\"https://colab.research.google.com/assets/colab-badge.svg\" alt=\"Open In Colab\"/></a>"
      ]
    },
    {
      "cell_type": "markdown",
      "metadata": {
        "id": "Jvzp1lvQpRgU"
      },
      "source": [
        "不動産価格予測"
      ]
    },
    {
      "cell_type": "code",
      "metadata": {
        "colab": {
          "base_uri": "https://localhost:8080/"
        },
        "id": "mTfOenlQpgwk",
        "outputId": "564b39c9-a80a-4778-82c1-8ecca17d3360"
      },
      "source": [
        "from google.colab import drive\n",
        "drive.mount('/content/drive')"
      ],
      "execution_count": 1,
      "outputs": [
        {
          "output_type": "stream",
          "name": "stdout",
          "text": [
            "Mounted at /content/drive\n"
          ]
        }
      ]
    },
    {
      "cell_type": "code",
      "metadata": {
        "id": "iOCruR1kmgaW"
      },
      "source": [
        "# ご自身のパスを設定\n",
        "YOUR_PATH = \"/content/drive/MyDrive/Colab Notebooks/NISHIKA/中古マンション\""
      ],
      "execution_count": 2,
      "outputs": []
    },
    {
      "cell_type": "code",
      "metadata": {
        "id": "ocj0d3_WpgXk",
        "colab": {
          "base_uri": "https://localhost:8080/"
        },
        "outputId": "9b88b0ac-d137-44c5-eef4-f30da8ececd7"
      },
      "source": [
        "cd {YOUR_PATH}"
      ],
      "execution_count": 3,
      "outputs": [
        {
          "output_type": "stream",
          "name": "stdout",
          "text": [
            "/content/drive/MyDrive/Colab Notebooks/NISHIKA/中古マンション\n"
          ]
        }
      ]
    },
    {
      "cell_type": "code",
      "metadata": {
        "id": "Xe_H3u1RpW0O"
      },
      "source": [
        "!pip install optuna xfeat japanize-matplotlib >> /dev/null"
      ],
      "execution_count": 4,
      "outputs": []
    },
    {
      "cell_type": "code",
      "metadata": {
        "id": "v1RMD76PpRgZ"
      },
      "source": [
        "import re\n",
        "\n",
        "import japanize_matplotlib\n",
        "import lightgbm as lgb\n",
        "import matplotlib.pyplot as plt\n",
        "import numpy as np\n",
        "import optuna\n",
        "import pandas as pd\n",
        "import seaborn as sns\n",
        "sns.set(font=\"IPAexGothic\")\n",
        "\n",
        "from glob import glob\n",
        "from functools import partial\n",
        "from sklearn.metrics import mean_absolute_error\n",
        "from sklearn.model_selection import KFold\n",
        "from xfeat import SelectCategorical, LabelEncoder, LambdaEncoder, Pipeline, ConcatCombination, SelectNumerical, \\\n",
        "    ArithmeticCombinations, TargetEncoder, aggregation, GBDTFeatureSelector, GBDTFeatureExplorer"
      ],
      "execution_count": 5,
      "outputs": []
    },
    {
      "cell_type": "code",
      "metadata": {
        "id": "444i0jHmpRgb"
      },
      "source": [
        "def normalize_moyori(moyori):\n",
        "    if moyori == moyori:\n",
        "        if moyori == '30分?60分':\n",
        "            moyori = 45\n",
        "        elif moyori == '1H?1H30':\n",
        "            moyori = 75\n",
        "        elif moyori == '1H30?2H':\n",
        "            moyori = 105\n",
        "        elif moyori == '2H?':\n",
        "            moyori = 120\n",
        "        moyori = int(float(moyori))\n",
        "    return moyori"
      ],
      "execution_count": 6,
      "outputs": []
    },
    {
      "cell_type": "code",
      "metadata": {
        "id": "HOI6X5MjpRgb"
      },
      "source": [
        "def normalize_area(area):\n",
        "    if area == area:\n",
        "        area = int(re.sub('m\\^2未満|㎡以上', '', str(area)))\n",
        "    return area"
      ],
      "execution_count": 7,
      "outputs": []
    },
    {
      "cell_type": "code",
      "metadata": {
        "id": "B6UWeBQqpRgb"
      },
      "source": [
        "def convert_wareki_to_seireki(wareki):\n",
        "    if wareki == wareki:\n",
        "        if wareki == '戦前':\n",
        "            wareki = '昭和20年'\n",
        "        value = wareki[2:-1]\n",
        "        if value == '元':\n",
        "            value = 1\n",
        "        else:\n",
        "            value = int(value)\n",
        "        if '昭和' in wareki:\n",
        "            seireki = 1925+value\n",
        "        elif '平成' in wareki:\n",
        "            seireki = 1988+value\n",
        "        elif '令和' in wareki:\n",
        "            seireki = 2018+value\n",
        "    else:\n",
        "        seireki = wareki\n",
        "    return seireki"
      ],
      "execution_count": 8,
      "outputs": []
    },
    {
      "cell_type": "markdown",
      "metadata": {
        "id": "R_iHYSIypRgb"
      },
      "source": [
        "コンペデータ作成（利用カラム、目的変数など決める）"
      ]
    },
    {
      "cell_type": "markdown",
      "metadata": {
        "id": "8EwCrA9KDrOS"
      },
      "source": [
        "dataディレクトリ配下に以下のようにデータを格納しているとする\n",
        "\n",
        "├─ input<br>\n",
        "│   ├─ data_explanation.xlsx<br>\n",
        "│   ├─ sample_submission.csv<br>\n",
        "│   ├─ test.csv<br>\n",
        "│   └─ train<br>\n",
        "│       &nbsp;&nbsp;&nbsp;&nbsp;&nbsp;&nbsp;&nbsp;&nbsp;├─ 01.csv<br>\n",
        "│       &nbsp;&nbsp;&nbsp;&nbsp;&nbsp;&nbsp;&nbsp;&nbsp;├─ 02.csv<br>\n",
        "│       &nbsp;&nbsp;&nbsp;&nbsp;&nbsp;&nbsp;&nbsp;&nbsp;├─ 03.csv<br>\n",
        "│       &nbsp;&nbsp;&nbsp;&nbsp;&nbsp;&nbsp;&nbsp;&nbsp;├─ ...<br>\n",
        "│       &nbsp;&nbsp;&nbsp;&nbsp;&nbsp;&nbsp;&nbsp;&nbsp;└─ 47.csv<br>\n",
        "└─ output\n"
      ]
    },
    {
      "cell_type": "code",
      "metadata": {
        "id": "dlvuK497pRgc",
        "colab": {
          "base_uri": "https://localhost:8080/"
        },
        "outputId": "08733086-a47c-4eec-d886-78f0f2d15d1b"
      },
      "source": [
        "paths = glob('train/*')\n",
        "train_dfs = []\n",
        "for path in paths:\n",
        "    train_df = pd.read_csv(path)\n",
        "    train_dfs.append(train_df)\n",
        "train_df = pd.concat(train_dfs)\n",
        "train_df.reset_index(drop=True, inplace=True)\n",
        "test_df = pd.read_csv('test.csv')"
      ],
      "execution_count": 9,
      "outputs": [
        {
          "output_type": "stream",
          "name": "stderr",
          "text": [
            "/usr/local/lib/python3.8/dist-packages/IPython/core/interactiveshell.py:3326: DtypeWarning: Columns (10) have mixed types.Specify dtype option on import or set low_memory=False.\n",
            "  exec(code_obj, self.user_global_ns, self.user_ns)\n"
          ]
        }
      ]
    },
    {
      "cell_type": "code",
      "metadata": {
        "id": "evmYy0RDpRgc",
        "colab": {
          "base_uri": "https://localhost:8080/"
        },
        "outputId": "0e67a5d4-697d-4fa4-ca9e-1f1ea836dbac"
      },
      "source": [
        "train_df.isnull().sum()"
      ],
      "execution_count": 10,
      "outputs": [
        {
          "output_type": "execute_result",
          "data": {
            "text/plain": [
              "ID                   0\n",
              "種類                   0\n",
              "地域              736710\n",
              "市区町村コード              0\n",
              "都道府県名                0\n",
              "市区町村名                0\n",
              "地区名                670\n",
              "最寄駅：名称            2741\n",
              "最寄駅：距離（分）        23167\n",
              "間取り              26680\n",
              "面積（㎡）                0\n",
              "土地の形状           736710\n",
              "間口              736710\n",
              "延床面積（㎡）         736710\n",
              "建築年              21446\n",
              "建物の構造            20019\n",
              "用途               74794\n",
              "今後の利用目的         366500\n",
              "前面道路：方位         736710\n",
              "前面道路：種類         736710\n",
              "前面道路：幅員（ｍ）      736710\n",
              "都市計画             20063\n",
              "建ぺい率（％）          24491\n",
              "容積率（％）           24491\n",
              "取引時点                 0\n",
              "改装               70021\n",
              "取引の事情等          717666\n",
              "取引価格（総額）_log         0\n",
              "dtype: int64"
            ]
          },
          "metadata": {},
          "execution_count": 10
        }
      ]
    },
    {
      "cell_type": "code",
      "metadata": {
        "id": "SehETeyUpRgd"
      },
      "source": [
        "sub_df = pd.read_csv('sample_submission.csv')"
      ],
      "execution_count": 11,
      "outputs": []
    },
    {
      "cell_type": "code",
      "metadata": {
        "id": "udqHdH9MpRgd"
      },
      "source": [
        "ID = 'ID'\n",
        "TARGET = '取引価格（総額）_log'\n",
        "rm_cols = []"
      ],
      "execution_count": 12,
      "outputs": []
    },
    {
      "cell_type": "code",
      "metadata": {
        "id": "8FoGfIwxpRge",
        "colab": {
          "base_uri": "https://localhost:8080/"
        },
        "outputId": "ed222956-6c02-4244-ba77-c97855cf6149"
      },
      "source": [
        "df = pd.concat([train_df, test_df])\n",
        "\n",
        "rm_cols += ['市区町村コード']\n",
        "for i,v in df.nunique().iteritems():\n",
        "    if v <= 1:\n",
        "        rm_cols.append(i)\n",
        "\n",
        "rm_cols"
      ],
      "execution_count": 13,
      "outputs": [
        {
          "output_type": "execute_result",
          "data": {
            "text/plain": [
              "['市区町村コード',\n",
              " '種類',\n",
              " '地域',\n",
              " '土地の形状',\n",
              " '間口',\n",
              " '延床面積（㎡）',\n",
              " '前面道路：方位',\n",
              " '前面道路：種類',\n",
              " '前面道路：幅員（ｍ）']"
            ]
          },
          "metadata": {},
          "execution_count": 13
        }
      ]
    },
    {
      "cell_type": "code",
      "metadata": {
        "id": "j1LZb8qMpRge",
        "colab": {
          "base_uri": "https://localhost:8080/"
        },
        "outputId": "e98f09ee-45b3-446d-c5b4-7ba72c8c5aec"
      },
      "source": [
        "test_df[TARGET] = np.nan\n",
        "train_df.drop(rm_cols, axis=1, inplace=True)\n",
        "test_df.drop(rm_cols, axis=1, inplace=True)\n",
        "df = pd.concat([train_df, test_df])\n",
        "df.sort_values('取引時点', inplace=True)\n",
        "df.reset_index(drop=True, inplace=True)\n",
        "df.shape"
      ],
      "execution_count": 14,
      "outputs": [
        {
          "output_type": "execute_result",
          "data": {
            "text/plain": [
              "(758115, 19)"
            ]
          },
          "metadata": {},
          "execution_count": 14
        }
      ]
    },
    {
      "cell_type": "code",
      "metadata": {
        "colab": {
          "base_uri": "https://localhost:8080/"
        },
        "id": "6oqA6qIynMO2",
        "outputId": "3e7d8d5f-2671-4648-af8b-848d72c1c1d9"
      },
      "source": [
        "df['取引時点'].unique()"
      ],
      "execution_count": 15,
      "outputs": [
        {
          "output_type": "execute_result",
          "data": {
            "text/plain": [
              "array(['2005年第3四半期', '2005年第4四半期', '2006年第1四半期', '2006年第2四半期',\n",
              "       '2006年第3四半期', '2006年第4四半期', '2007年第1四半期', '2007年第2四半期',\n",
              "       '2007年第3四半期', '2007年第4四半期', '2008年第1四半期', '2008年第2四半期',\n",
              "       '2008年第3四半期', '2008年第4四半期', '2009年第1四半期', '2009年第2四半期',\n",
              "       '2009年第3四半期', '2009年第4四半期', '2010年第1四半期', '2010年第2四半期',\n",
              "       '2010年第3四半期', '2010年第4四半期', '2011年第1四半期', '2011年第2四半期',\n",
              "       '2011年第3四半期', '2011年第4四半期', '2012年第1四半期', '2012年第2四半期',\n",
              "       '2012年第3四半期', '2012年第4四半期', '2013年第1四半期', '2013年第2四半期',\n",
              "       '2013年第3四半期', '2013年第4四半期', '2014年第1四半期', '2014年第2四半期',\n",
              "       '2014年第3四半期', '2014年第4四半期', '2015年第1四半期', '2015年第2四半期',\n",
              "       '2015年第3四半期', '2015年第4四半期', '2016年第1四半期', '2016年第2四半期',\n",
              "       '2016年第3四半期', '2016年第4四半期', '2017年第1四半期', '2017年第2四半期',\n",
              "       '2017年第3四半期', '2017年第4四半期', '2018年第1四半期', '2018年第2四半期',\n",
              "       '2018年第3四半期', '2018年第4四半期', '2019年第1四半期', '2019年第2四半期',\n",
              "       '2019年第3四半期', '2019年第4四半期', '2020年第1四半期', '2020年第2四半期',\n",
              "       '2020年第3四半期', '2020年第4四半期', '2021年第1四半期', '2021年第2四半期',\n",
              "       '2021年第3四半期', '2021年第4四半期', '2022年第1四半期'], dtype=object)"
            ]
          },
          "metadata": {},
          "execution_count": 15
        }
      ]
    },
    {
      "cell_type": "code",
      "metadata": {
        "colab": {
          "base_uri": "https://localhost:8080/"
        },
        "id": "yJl_gacnvmCY",
        "outputId": "8376b68d-329b-42c5-d787-8f93a2e4d61c"
      },
      "source": [
        "val_min_idx = min(df[df['取引時点'].str.contains('2021年第2四半期|2021年第3四半期', regex=True)].index)\n",
        "test_min_idx = min(df[df['取引時点'].str.contains('2021年第4四半期|2022年第1四半期', regex=True)].index)\n",
        "val_min_idx, test_min_idx"
      ],
      "execution_count": 16,
      "outputs": [
        {
          "output_type": "execute_result",
          "data": {
            "text/plain": [
              "(707966, 736710)"
            ]
          },
          "metadata": {},
          "execution_count": 16
        }
      ]
    },
    {
      "cell_type": "code",
      "source": [
        "set(df.iloc[val_min_idx:test_min_idx, :]['取引時点'].values)"
      ],
      "metadata": {
        "id": "66TuMGBWkPhm",
        "colab": {
          "base_uri": "https://localhost:8080/"
        },
        "outputId": "84597ea8-da70-4bc5-a6eb-91d083c7fed4"
      },
      "execution_count": 17,
      "outputs": [
        {
          "output_type": "execute_result",
          "data": {
            "text/plain": [
              "{'2021年第2四半期', '2021年第3四半期'}"
            ]
          },
          "metadata": {},
          "execution_count": 17
        }
      ]
    },
    {
      "cell_type": "markdown",
      "metadata": {
        "id": "74WQqMxKpRge"
      },
      "source": [
        "---\n",
        "特徴量生成"
      ]
    },
    {
      "cell_type": "code",
      "metadata": {
        "id": "U1-jbdrKpRgf"
      },
      "source": [
        "enc_dic = {}\n",
        "for i, e in enumerate(sorted(list(set(df['取引時点'].values)))):\n",
        "    enc_dic[e] = i\n",
        "df['取引時点_enc'] = df['取引時点'].map(enc_dic)"
      ],
      "execution_count": 18,
      "outputs": []
    },
    {
      "cell_type": "code",
      "metadata": {
        "id": "Pp70asTFpRgf",
        "colab": {
          "base_uri": "https://localhost:8080/"
        },
        "outputId": "1b26ccff-d9b8-429f-d10a-f9d4d223434d"
      },
      "source": [
        "te_dic = {}\n",
        "time_col = '取引時点_enc'\n",
        "group_col = '都道府県名'\n",
        "\n",
        "for i in set(df[time_col].values):\n",
        "    tmp_df = df[df[time_col] < i]\n",
        "    te_dic[i] = tmp_df.groupby(group_col)[TARGET].agg('mean').to_dict()\n",
        "\n",
        "te_dic[50]"
      ],
      "execution_count": 19,
      "outputs": [
        {
          "output_type": "execute_result",
          "data": {
            "text/plain": [
              "{'三重県': 7.099989772836439,\n",
              " '京都府': 7.155935848555253,\n",
              " '佐賀県': 7.009937258263509,\n",
              " '兵庫県': 7.157742870483196,\n",
              " '北海道': 6.965967793677859,\n",
              " '千葉県': 7.155825324964995,\n",
              " '和歌山県': 7.022690210815773,\n",
              " '埼玉県': 7.1697442713966355,\n",
              " '大分県': 6.911537826573079,\n",
              " '大阪府': 7.158352973821201,\n",
              " '奈良県': 7.056884610234688,\n",
              " '宮城県': 7.0395442538048805,\n",
              " '宮崎県': 6.958678653711235,\n",
              " '富山県': 7.0469200713870155,\n",
              " '山口県': 7.045342730349803,\n",
              " '山形県': 7.087990602814902,\n",
              " '山梨県': 6.848839888686708,\n",
              " '岐阜県': 7.078095913486453,\n",
              " '岡山県': 7.03809073492747,\n",
              " '岩手県': 6.925002679060599,\n",
              " '島根県': 7.165376214700312,\n",
              " '広島県': 7.093449021655064,\n",
              " '徳島県': 6.912051981629745,\n",
              " '愛媛県': 6.966433011596662,\n",
              " '愛知県': 7.107301969238601,\n",
              " '新潟県': 6.913835156235044,\n",
              " '東京都': 7.377929204641064,\n",
              " '栃木県': 6.950636958071011,\n",
              " '沖縄県': 7.160046604428336,\n",
              " '滋賀県': 7.16602695816839,\n",
              " '熊本県': 6.970182251843263,\n",
              " '石川県': 6.929363348877185,\n",
              " '神奈川県': 7.2581182672098175,\n",
              " '福井県': 6.979575815840195,\n",
              " '福岡県': 6.992264905042226,\n",
              " '福島県': 6.9743805791401785,\n",
              " '秋田県': 6.94131374711264,\n",
              " '群馬県': 6.928069391036607,\n",
              " '茨城県': 7.075528163782812,\n",
              " '長崎県': 7.150784996001117,\n",
              " '長野県': 7.063121700154463,\n",
              " '青森県': 6.9556107539806185,\n",
              " '静岡県': 7.0170037911973155,\n",
              " '香川県': 6.903679020975967,\n",
              " '高知県': 6.98595825905006,\n",
              " '鳥取県': 6.940192902720598,\n",
              " '鹿児島県': 7.095567581694406}"
            ]
          },
          "metadata": {},
          "execution_count": 19
        }
      ]
    },
    {
      "cell_type": "code",
      "metadata": {
        "id": "rArMjGd7pRgf",
        "colab": {
          "base_uri": "https://localhost:8080/",
          "height": 394
        },
        "outputId": "6cb73c64-748e-4ddf-bae1-7033f53c02b0"
      },
      "source": [
        "def calc_te(row):\n",
        "    if row[time_col] in te_dic and row[group_col] in te_dic[row[time_col]]:\n",
        "        return te_dic[row[time_col]][row[group_col]]\n",
        "    else:\n",
        "        return 0\n",
        "\n",
        "df[group_col+'_te'] = df.apply(calc_te, axis=1)\n",
        "df.head(2)"
      ],
      "execution_count": 20,
      "outputs": [
        {
          "output_type": "execute_result",
          "data": {
            "text/plain": [
              "         ID 都道府県名 市区町村名 地区名  最寄駅：名称 最寄駅：距離（分）  間取り 面積（㎡）    建築年 建物の構造  ...  \\\n",
              "0  13251125   東京都   目黒区  目黒      目黒        13  １ＤＫ    30   平成9年    ＲＣ  ...   \n",
              "1  13127519   東京都    港区  赤坂  赤坂(東京)         9   １Ｋ    20  昭和58年   ＳＲＣ  ...   \n",
              "\n",
              "  今後の利用目的          都市計画 建ぺい率（％）  容積率（％）        取引時点   改装 取引の事情等 取引価格（総額）_log  \\\n",
              "0     NaN       第１種住居地域    60.0   300.0  2005年第3四半期  NaN    NaN     7.397940   \n",
              "1     NaN  第２種中高層住居専用地域    60.0   300.0  2005年第3四半期  改装済    NaN     7.176091   \n",
              "\n",
              "   取引時点_enc  都道府県名_te  \n",
              "0         0       0.0  \n",
              "1         0       0.0  \n",
              "\n",
              "[2 rows x 21 columns]"
            ],
            "text/html": [
              "\n",
              "  <div id=\"df-7afd07fd-75bf-4666-ab53-291ed226b7dc\">\n",
              "    <div class=\"colab-df-container\">\n",
              "      <div>\n",
              "<style scoped>\n",
              "    .dataframe tbody tr th:only-of-type {\n",
              "        vertical-align: middle;\n",
              "    }\n",
              "\n",
              "    .dataframe tbody tr th {\n",
              "        vertical-align: top;\n",
              "    }\n",
              "\n",
              "    .dataframe thead th {\n",
              "        text-align: right;\n",
              "    }\n",
              "</style>\n",
              "<table border=\"1\" class=\"dataframe\">\n",
              "  <thead>\n",
              "    <tr style=\"text-align: right;\">\n",
              "      <th></th>\n",
              "      <th>ID</th>\n",
              "      <th>都道府県名</th>\n",
              "      <th>市区町村名</th>\n",
              "      <th>地区名</th>\n",
              "      <th>最寄駅：名称</th>\n",
              "      <th>最寄駅：距離（分）</th>\n",
              "      <th>間取り</th>\n",
              "      <th>面積（㎡）</th>\n",
              "      <th>建築年</th>\n",
              "      <th>建物の構造</th>\n",
              "      <th>...</th>\n",
              "      <th>今後の利用目的</th>\n",
              "      <th>都市計画</th>\n",
              "      <th>建ぺい率（％）</th>\n",
              "      <th>容積率（％）</th>\n",
              "      <th>取引時点</th>\n",
              "      <th>改装</th>\n",
              "      <th>取引の事情等</th>\n",
              "      <th>取引価格（総額）_log</th>\n",
              "      <th>取引時点_enc</th>\n",
              "      <th>都道府県名_te</th>\n",
              "    </tr>\n",
              "  </thead>\n",
              "  <tbody>\n",
              "    <tr>\n",
              "      <th>0</th>\n",
              "      <td>13251125</td>\n",
              "      <td>東京都</td>\n",
              "      <td>目黒区</td>\n",
              "      <td>目黒</td>\n",
              "      <td>目黒</td>\n",
              "      <td>13</td>\n",
              "      <td>１ＤＫ</td>\n",
              "      <td>30</td>\n",
              "      <td>平成9年</td>\n",
              "      <td>ＲＣ</td>\n",
              "      <td>...</td>\n",
              "      <td>NaN</td>\n",
              "      <td>第１種住居地域</td>\n",
              "      <td>60.0</td>\n",
              "      <td>300.0</td>\n",
              "      <td>2005年第3四半期</td>\n",
              "      <td>NaN</td>\n",
              "      <td>NaN</td>\n",
              "      <td>7.397940</td>\n",
              "      <td>0</td>\n",
              "      <td>0.0</td>\n",
              "    </tr>\n",
              "    <tr>\n",
              "      <th>1</th>\n",
              "      <td>13127519</td>\n",
              "      <td>東京都</td>\n",
              "      <td>港区</td>\n",
              "      <td>赤坂</td>\n",
              "      <td>赤坂(東京)</td>\n",
              "      <td>9</td>\n",
              "      <td>１Ｋ</td>\n",
              "      <td>20</td>\n",
              "      <td>昭和58年</td>\n",
              "      <td>ＳＲＣ</td>\n",
              "      <td>...</td>\n",
              "      <td>NaN</td>\n",
              "      <td>第２種中高層住居専用地域</td>\n",
              "      <td>60.0</td>\n",
              "      <td>300.0</td>\n",
              "      <td>2005年第3四半期</td>\n",
              "      <td>改装済</td>\n",
              "      <td>NaN</td>\n",
              "      <td>7.176091</td>\n",
              "      <td>0</td>\n",
              "      <td>0.0</td>\n",
              "    </tr>\n",
              "  </tbody>\n",
              "</table>\n",
              "<p>2 rows × 21 columns</p>\n",
              "</div>\n",
              "      <button class=\"colab-df-convert\" onclick=\"convertToInteractive('df-7afd07fd-75bf-4666-ab53-291ed226b7dc')\"\n",
              "              title=\"Convert this dataframe to an interactive table.\"\n",
              "              style=\"display:none;\">\n",
              "        \n",
              "  <svg xmlns=\"http://www.w3.org/2000/svg\" height=\"24px\"viewBox=\"0 0 24 24\"\n",
              "       width=\"24px\">\n",
              "    <path d=\"M0 0h24v24H0V0z\" fill=\"none\"/>\n",
              "    <path d=\"M18.56 5.44l.94 2.06.94-2.06 2.06-.94-2.06-.94-.94-2.06-.94 2.06-2.06.94zm-11 1L8.5 8.5l.94-2.06 2.06-.94-2.06-.94L8.5 2.5l-.94 2.06-2.06.94zm10 10l.94 2.06.94-2.06 2.06-.94-2.06-.94-.94-2.06-.94 2.06-2.06.94z\"/><path d=\"M17.41 7.96l-1.37-1.37c-.4-.4-.92-.59-1.43-.59-.52 0-1.04.2-1.43.59L10.3 9.45l-7.72 7.72c-.78.78-.78 2.05 0 2.83L4 21.41c.39.39.9.59 1.41.59.51 0 1.02-.2 1.41-.59l7.78-7.78 2.81-2.81c.8-.78.8-2.07 0-2.86zM5.41 20L4 18.59l7.72-7.72 1.47 1.35L5.41 20z\"/>\n",
              "  </svg>\n",
              "      </button>\n",
              "      \n",
              "  <style>\n",
              "    .colab-df-container {\n",
              "      display:flex;\n",
              "      flex-wrap:wrap;\n",
              "      gap: 12px;\n",
              "    }\n",
              "\n",
              "    .colab-df-convert {\n",
              "      background-color: #E8F0FE;\n",
              "      border: none;\n",
              "      border-radius: 50%;\n",
              "      cursor: pointer;\n",
              "      display: none;\n",
              "      fill: #1967D2;\n",
              "      height: 32px;\n",
              "      padding: 0 0 0 0;\n",
              "      width: 32px;\n",
              "    }\n",
              "\n",
              "    .colab-df-convert:hover {\n",
              "      background-color: #E2EBFA;\n",
              "      box-shadow: 0px 1px 2px rgba(60, 64, 67, 0.3), 0px 1px 3px 1px rgba(60, 64, 67, 0.15);\n",
              "      fill: #174EA6;\n",
              "    }\n",
              "\n",
              "    [theme=dark] .colab-df-convert {\n",
              "      background-color: #3B4455;\n",
              "      fill: #D2E3FC;\n",
              "    }\n",
              "\n",
              "    [theme=dark] .colab-df-convert:hover {\n",
              "      background-color: #434B5C;\n",
              "      box-shadow: 0px 1px 3px 1px rgba(0, 0, 0, 0.15);\n",
              "      filter: drop-shadow(0px 1px 2px rgba(0, 0, 0, 0.3));\n",
              "      fill: #FFFFFF;\n",
              "    }\n",
              "  </style>\n",
              "\n",
              "      <script>\n",
              "        const buttonEl =\n",
              "          document.querySelector('#df-7afd07fd-75bf-4666-ab53-291ed226b7dc button.colab-df-convert');\n",
              "        buttonEl.style.display =\n",
              "          google.colab.kernel.accessAllowed ? 'block' : 'none';\n",
              "\n",
              "        async function convertToInteractive(key) {\n",
              "          const element = document.querySelector('#df-7afd07fd-75bf-4666-ab53-291ed226b7dc');\n",
              "          const dataTable =\n",
              "            await google.colab.kernel.invokeFunction('convertToInteractive',\n",
              "                                                     [key], {});\n",
              "          if (!dataTable) return;\n",
              "\n",
              "          const docLinkHtml = 'Like what you see? Visit the ' +\n",
              "            '<a target=\"_blank\" href=https://colab.research.google.com/notebooks/data_table.ipynb>data table notebook</a>'\n",
              "            + ' to learn more about interactive tables.';\n",
              "          element.innerHTML = '';\n",
              "          dataTable['output_type'] = 'display_data';\n",
              "          await google.colab.output.renderOutput(dataTable, element);\n",
              "          const docLink = document.createElement('div');\n",
              "          docLink.innerHTML = docLinkHtml;\n",
              "          element.appendChild(docLink);\n",
              "        }\n",
              "      </script>\n",
              "    </div>\n",
              "  </div>\n",
              "  "
            ]
          },
          "metadata": {},
          "execution_count": 20
        }
      ]
    },
    {
      "cell_type": "code",
      "metadata": {
        "id": "BTrJ3EC_pRgf"
      },
      "source": [
        "df['取引時点_何年前'] = df['取引時点'].apply(lambda x: 2021-int(x[:4]))\n",
        "df.drop(['取引時点'], axis=1, inplace=True)\n",
        "df['建築年'] = df['建築年'].apply(lambda x: convert_wareki_to_seireki(x))\n",
        "df['面積（㎡）'] = df['面積（㎡）'].apply(lambda x: normalize_area(x))\n",
        "df['最寄駅：距離（分）'] = df['最寄駅：距離（分）'].apply(lambda x: normalize_moyori(x))"
      ],
      "execution_count": 21,
      "outputs": []
    },
    {
      "cell_type": "code",
      "metadata": {
        "id": "QYR7Sd8QpRgg",
        "colab": {
          "base_uri": "https://localhost:8080/",
          "height": 156
        },
        "outputId": "2c0ddbf1-53a9-42b6-bd45-eb4716a36587"
      },
      "source": [
        "num_df = SelectNumerical().fit_transform(df)\n",
        "num_df.head(2)"
      ],
      "execution_count": 22,
      "outputs": [
        {
          "output_type": "execute_result",
          "data": {
            "text/plain": [
              "         ID  最寄駅：距離（分）  面積（㎡）     建築年  建ぺい率（％）  容積率（％）  取引価格（総額）_log  \\\n",
              "0  13251125       13.0     30  1997.0     60.0   300.0      7.397940   \n",
              "1  13127519        9.0     20  1983.0     60.0   300.0      7.176091   \n",
              "\n",
              "   取引時点_enc  都道府県名_te  取引時点_何年前  \n",
              "0         0       0.0        16  \n",
              "1         0       0.0        16  "
            ],
            "text/html": [
              "\n",
              "  <div id=\"df-4be53fc8-7294-4612-a06c-cc94e3587cfa\">\n",
              "    <div class=\"colab-df-container\">\n",
              "      <div>\n",
              "<style scoped>\n",
              "    .dataframe tbody tr th:only-of-type {\n",
              "        vertical-align: middle;\n",
              "    }\n",
              "\n",
              "    .dataframe tbody tr th {\n",
              "        vertical-align: top;\n",
              "    }\n",
              "\n",
              "    .dataframe thead th {\n",
              "        text-align: right;\n",
              "    }\n",
              "</style>\n",
              "<table border=\"1\" class=\"dataframe\">\n",
              "  <thead>\n",
              "    <tr style=\"text-align: right;\">\n",
              "      <th></th>\n",
              "      <th>ID</th>\n",
              "      <th>最寄駅：距離（分）</th>\n",
              "      <th>面積（㎡）</th>\n",
              "      <th>建築年</th>\n",
              "      <th>建ぺい率（％）</th>\n",
              "      <th>容積率（％）</th>\n",
              "      <th>取引価格（総額）_log</th>\n",
              "      <th>取引時点_enc</th>\n",
              "      <th>都道府県名_te</th>\n",
              "      <th>取引時点_何年前</th>\n",
              "    </tr>\n",
              "  </thead>\n",
              "  <tbody>\n",
              "    <tr>\n",
              "      <th>0</th>\n",
              "      <td>13251125</td>\n",
              "      <td>13.0</td>\n",
              "      <td>30</td>\n",
              "      <td>1997.0</td>\n",
              "      <td>60.0</td>\n",
              "      <td>300.0</td>\n",
              "      <td>7.397940</td>\n",
              "      <td>0</td>\n",
              "      <td>0.0</td>\n",
              "      <td>16</td>\n",
              "    </tr>\n",
              "    <tr>\n",
              "      <th>1</th>\n",
              "      <td>13127519</td>\n",
              "      <td>9.0</td>\n",
              "      <td>20</td>\n",
              "      <td>1983.0</td>\n",
              "      <td>60.0</td>\n",
              "      <td>300.0</td>\n",
              "      <td>7.176091</td>\n",
              "      <td>0</td>\n",
              "      <td>0.0</td>\n",
              "      <td>16</td>\n",
              "    </tr>\n",
              "  </tbody>\n",
              "</table>\n",
              "</div>\n",
              "      <button class=\"colab-df-convert\" onclick=\"convertToInteractive('df-4be53fc8-7294-4612-a06c-cc94e3587cfa')\"\n",
              "              title=\"Convert this dataframe to an interactive table.\"\n",
              "              style=\"display:none;\">\n",
              "        \n",
              "  <svg xmlns=\"http://www.w3.org/2000/svg\" height=\"24px\"viewBox=\"0 0 24 24\"\n",
              "       width=\"24px\">\n",
              "    <path d=\"M0 0h24v24H0V0z\" fill=\"none\"/>\n",
              "    <path d=\"M18.56 5.44l.94 2.06.94-2.06 2.06-.94-2.06-.94-.94-2.06-.94 2.06-2.06.94zm-11 1L8.5 8.5l.94-2.06 2.06-.94-2.06-.94L8.5 2.5l-.94 2.06-2.06.94zm10 10l.94 2.06.94-2.06 2.06-.94-2.06-.94-.94-2.06-.94 2.06-2.06.94z\"/><path d=\"M17.41 7.96l-1.37-1.37c-.4-.4-.92-.59-1.43-.59-.52 0-1.04.2-1.43.59L10.3 9.45l-7.72 7.72c-.78.78-.78 2.05 0 2.83L4 21.41c.39.39.9.59 1.41.59.51 0 1.02-.2 1.41-.59l7.78-7.78 2.81-2.81c.8-.78.8-2.07 0-2.86zM5.41 20L4 18.59l7.72-7.72 1.47 1.35L5.41 20z\"/>\n",
              "  </svg>\n",
              "      </button>\n",
              "      \n",
              "  <style>\n",
              "    .colab-df-container {\n",
              "      display:flex;\n",
              "      flex-wrap:wrap;\n",
              "      gap: 12px;\n",
              "    }\n",
              "\n",
              "    .colab-df-convert {\n",
              "      background-color: #E8F0FE;\n",
              "      border: none;\n",
              "      border-radius: 50%;\n",
              "      cursor: pointer;\n",
              "      display: none;\n",
              "      fill: #1967D2;\n",
              "      height: 32px;\n",
              "      padding: 0 0 0 0;\n",
              "      width: 32px;\n",
              "    }\n",
              "\n",
              "    .colab-df-convert:hover {\n",
              "      background-color: #E2EBFA;\n",
              "      box-shadow: 0px 1px 2px rgba(60, 64, 67, 0.3), 0px 1px 3px 1px rgba(60, 64, 67, 0.15);\n",
              "      fill: #174EA6;\n",
              "    }\n",
              "\n",
              "    [theme=dark] .colab-df-convert {\n",
              "      background-color: #3B4455;\n",
              "      fill: #D2E3FC;\n",
              "    }\n",
              "\n",
              "    [theme=dark] .colab-df-convert:hover {\n",
              "      background-color: #434B5C;\n",
              "      box-shadow: 0px 1px 3px 1px rgba(0, 0, 0, 0.15);\n",
              "      filter: drop-shadow(0px 1px 2px rgba(0, 0, 0, 0.3));\n",
              "      fill: #FFFFFF;\n",
              "    }\n",
              "  </style>\n",
              "\n",
              "      <script>\n",
              "        const buttonEl =\n",
              "          document.querySelector('#df-4be53fc8-7294-4612-a06c-cc94e3587cfa button.colab-df-convert');\n",
              "        buttonEl.style.display =\n",
              "          google.colab.kernel.accessAllowed ? 'block' : 'none';\n",
              "\n",
              "        async function convertToInteractive(key) {\n",
              "          const element = document.querySelector('#df-4be53fc8-7294-4612-a06c-cc94e3587cfa');\n",
              "          const dataTable =\n",
              "            await google.colab.kernel.invokeFunction('convertToInteractive',\n",
              "                                                     [key], {});\n",
              "          if (!dataTable) return;\n",
              "\n",
              "          const docLinkHtml = 'Like what you see? Visit the ' +\n",
              "            '<a target=\"_blank\" href=https://colab.research.google.com/notebooks/data_table.ipynb>data table notebook</a>'\n",
              "            + ' to learn more about interactive tables.';\n",
              "          element.innerHTML = '';\n",
              "          dataTable['output_type'] = 'display_data';\n",
              "          await google.colab.output.renderOutput(dataTable, element);\n",
              "          const docLink = document.createElement('div');\n",
              "          docLink.innerHTML = docLinkHtml;\n",
              "          element.appendChild(docLink);\n",
              "        }\n",
              "      </script>\n",
              "    </div>\n",
              "  </div>\n",
              "  "
            ]
          },
          "metadata": {},
          "execution_count": 22
        }
      ]
    },
    {
      "cell_type": "code",
      "metadata": {
        "id": "Bp_KYSA0pRgg",
        "colab": {
          "base_uri": "https://localhost:8080/",
          "height": 112
        },
        "outputId": "2f253478-e89f-4924-e41d-eec01339c2c0"
      },
      "source": [
        "encoder = Pipeline([\n",
        "    SelectCategorical(),\n",
        "    LabelEncoder(output_suffix=\"\"),\n",
        "])\n",
        "\n",
        "le_df = encoder.fit_transform(df)\n",
        "le_df.head(2)"
      ],
      "execution_count": 23,
      "outputs": [
        {
          "output_type": "execute_result",
          "data": {
            "text/plain": [
              "   都道府県名  市区町村名  地区名  最寄駅：名称  間取り  建物の構造  用途  今後の利用目的  都市計画  改装  取引の事情等\n",
              "0      0      0    0       0    0      0   0       -1     0  -1      -1\n",
              "1      0      1    1       1    1      1   0       -1     1   0      -1"
            ],
            "text/html": [
              "\n",
              "  <div id=\"df-191e81b9-817a-4f5a-920b-5e84363c9520\">\n",
              "    <div class=\"colab-df-container\">\n",
              "      <div>\n",
              "<style scoped>\n",
              "    .dataframe tbody tr th:only-of-type {\n",
              "        vertical-align: middle;\n",
              "    }\n",
              "\n",
              "    .dataframe tbody tr th {\n",
              "        vertical-align: top;\n",
              "    }\n",
              "\n",
              "    .dataframe thead th {\n",
              "        text-align: right;\n",
              "    }\n",
              "</style>\n",
              "<table border=\"1\" class=\"dataframe\">\n",
              "  <thead>\n",
              "    <tr style=\"text-align: right;\">\n",
              "      <th></th>\n",
              "      <th>都道府県名</th>\n",
              "      <th>市区町村名</th>\n",
              "      <th>地区名</th>\n",
              "      <th>最寄駅：名称</th>\n",
              "      <th>間取り</th>\n",
              "      <th>建物の構造</th>\n",
              "      <th>用途</th>\n",
              "      <th>今後の利用目的</th>\n",
              "      <th>都市計画</th>\n",
              "      <th>改装</th>\n",
              "      <th>取引の事情等</th>\n",
              "    </tr>\n",
              "  </thead>\n",
              "  <tbody>\n",
              "    <tr>\n",
              "      <th>0</th>\n",
              "      <td>0</td>\n",
              "      <td>0</td>\n",
              "      <td>0</td>\n",
              "      <td>0</td>\n",
              "      <td>0</td>\n",
              "      <td>0</td>\n",
              "      <td>0</td>\n",
              "      <td>-1</td>\n",
              "      <td>0</td>\n",
              "      <td>-1</td>\n",
              "      <td>-1</td>\n",
              "    </tr>\n",
              "    <tr>\n",
              "      <th>1</th>\n",
              "      <td>0</td>\n",
              "      <td>1</td>\n",
              "      <td>1</td>\n",
              "      <td>1</td>\n",
              "      <td>1</td>\n",
              "      <td>1</td>\n",
              "      <td>0</td>\n",
              "      <td>-1</td>\n",
              "      <td>1</td>\n",
              "      <td>0</td>\n",
              "      <td>-1</td>\n",
              "    </tr>\n",
              "  </tbody>\n",
              "</table>\n",
              "</div>\n",
              "      <button class=\"colab-df-convert\" onclick=\"convertToInteractive('df-191e81b9-817a-4f5a-920b-5e84363c9520')\"\n",
              "              title=\"Convert this dataframe to an interactive table.\"\n",
              "              style=\"display:none;\">\n",
              "        \n",
              "  <svg xmlns=\"http://www.w3.org/2000/svg\" height=\"24px\"viewBox=\"0 0 24 24\"\n",
              "       width=\"24px\">\n",
              "    <path d=\"M0 0h24v24H0V0z\" fill=\"none\"/>\n",
              "    <path d=\"M18.56 5.44l.94 2.06.94-2.06 2.06-.94-2.06-.94-.94-2.06-.94 2.06-2.06.94zm-11 1L8.5 8.5l.94-2.06 2.06-.94-2.06-.94L8.5 2.5l-.94 2.06-2.06.94zm10 10l.94 2.06.94-2.06 2.06-.94-2.06-.94-.94-2.06-.94 2.06-2.06.94z\"/><path d=\"M17.41 7.96l-1.37-1.37c-.4-.4-.92-.59-1.43-.59-.52 0-1.04.2-1.43.59L10.3 9.45l-7.72 7.72c-.78.78-.78 2.05 0 2.83L4 21.41c.39.39.9.59 1.41.59.51 0 1.02-.2 1.41-.59l7.78-7.78 2.81-2.81c.8-.78.8-2.07 0-2.86zM5.41 20L4 18.59l7.72-7.72 1.47 1.35L5.41 20z\"/>\n",
              "  </svg>\n",
              "      </button>\n",
              "      \n",
              "  <style>\n",
              "    .colab-df-container {\n",
              "      display:flex;\n",
              "      flex-wrap:wrap;\n",
              "      gap: 12px;\n",
              "    }\n",
              "\n",
              "    .colab-df-convert {\n",
              "      background-color: #E8F0FE;\n",
              "      border: none;\n",
              "      border-radius: 50%;\n",
              "      cursor: pointer;\n",
              "      display: none;\n",
              "      fill: #1967D2;\n",
              "      height: 32px;\n",
              "      padding: 0 0 0 0;\n",
              "      width: 32px;\n",
              "    }\n",
              "\n",
              "    .colab-df-convert:hover {\n",
              "      background-color: #E2EBFA;\n",
              "      box-shadow: 0px 1px 2px rgba(60, 64, 67, 0.3), 0px 1px 3px 1px rgba(60, 64, 67, 0.15);\n",
              "      fill: #174EA6;\n",
              "    }\n",
              "\n",
              "    [theme=dark] .colab-df-convert {\n",
              "      background-color: #3B4455;\n",
              "      fill: #D2E3FC;\n",
              "    }\n",
              "\n",
              "    [theme=dark] .colab-df-convert:hover {\n",
              "      background-color: #434B5C;\n",
              "      box-shadow: 0px 1px 3px 1px rgba(0, 0, 0, 0.15);\n",
              "      filter: drop-shadow(0px 1px 2px rgba(0, 0, 0, 0.3));\n",
              "      fill: #FFFFFF;\n",
              "    }\n",
              "  </style>\n",
              "\n",
              "      <script>\n",
              "        const buttonEl =\n",
              "          document.querySelector('#df-191e81b9-817a-4f5a-920b-5e84363c9520 button.colab-df-convert');\n",
              "        buttonEl.style.display =\n",
              "          google.colab.kernel.accessAllowed ? 'block' : 'none';\n",
              "\n",
              "        async function convertToInteractive(key) {\n",
              "          const element = document.querySelector('#df-191e81b9-817a-4f5a-920b-5e84363c9520');\n",
              "          const dataTable =\n",
              "            await google.colab.kernel.invokeFunction('convertToInteractive',\n",
              "                                                     [key], {});\n",
              "          if (!dataTable) return;\n",
              "\n",
              "          const docLinkHtml = 'Like what you see? Visit the ' +\n",
              "            '<a target=\"_blank\" href=https://colab.research.google.com/notebooks/data_table.ipynb>data table notebook</a>'\n",
              "            + ' to learn more about interactive tables.';\n",
              "          element.innerHTML = '';\n",
              "          dataTable['output_type'] = 'display_data';\n",
              "          await google.colab.output.renderOutput(dataTable, element);\n",
              "          const docLink = document.createElement('div');\n",
              "          docLink.innerHTML = docLinkHtml;\n",
              "          element.appendChild(docLink);\n",
              "        }\n",
              "      </script>\n",
              "    </div>\n",
              "  </div>\n",
              "  "
            ]
          },
          "metadata": {},
          "execution_count": 23
        }
      ]
    },
    {
      "cell_type": "code",
      "metadata": {
        "id": "AuySwDN1pRgg",
        "colab": {
          "base_uri": "https://localhost:8080/",
          "height": 112
        },
        "outputId": "b31f285d-1242-4a48-9762-2f54d5aa7260"
      },
      "source": [
        "encoder = Pipeline(\n",
        "    [\n",
        "        SelectNumerical(),\n",
        "        ArithmeticCombinations(\n",
        "            input_cols=[\"面積（㎡）\", \"容積率（％）\"], \n",
        "            drop_origin=True, \n",
        "            operator=\"*\", \n",
        "            r=2,\n",
        "        ),\n",
        "    ]\n",
        ")\n",
        "\n",
        "num_comb_df = encoder.fit_transform(df)/100\n",
        "num_comb_df.head(2)"
      ],
      "execution_count": 24,
      "outputs": [
        {
          "output_type": "execute_result",
          "data": {
            "text/plain": [
              "   面積（㎡）容積率（％）_combi\n",
              "0               90.0\n",
              "1               60.0"
            ],
            "text/html": [
              "\n",
              "  <div id=\"df-a14f683e-9d18-4541-b5a2-d188c4e45f56\">\n",
              "    <div class=\"colab-df-container\">\n",
              "      <div>\n",
              "<style scoped>\n",
              "    .dataframe tbody tr th:only-of-type {\n",
              "        vertical-align: middle;\n",
              "    }\n",
              "\n",
              "    .dataframe tbody tr th {\n",
              "        vertical-align: top;\n",
              "    }\n",
              "\n",
              "    .dataframe thead th {\n",
              "        text-align: right;\n",
              "    }\n",
              "</style>\n",
              "<table border=\"1\" class=\"dataframe\">\n",
              "  <thead>\n",
              "    <tr style=\"text-align: right;\">\n",
              "      <th></th>\n",
              "      <th>面積（㎡）容積率（％）_combi</th>\n",
              "    </tr>\n",
              "  </thead>\n",
              "  <tbody>\n",
              "    <tr>\n",
              "      <th>0</th>\n",
              "      <td>90.0</td>\n",
              "    </tr>\n",
              "    <tr>\n",
              "      <th>1</th>\n",
              "      <td>60.0</td>\n",
              "    </tr>\n",
              "  </tbody>\n",
              "</table>\n",
              "</div>\n",
              "      <button class=\"colab-df-convert\" onclick=\"convertToInteractive('df-a14f683e-9d18-4541-b5a2-d188c4e45f56')\"\n",
              "              title=\"Convert this dataframe to an interactive table.\"\n",
              "              style=\"display:none;\">\n",
              "        \n",
              "  <svg xmlns=\"http://www.w3.org/2000/svg\" height=\"24px\"viewBox=\"0 0 24 24\"\n",
              "       width=\"24px\">\n",
              "    <path d=\"M0 0h24v24H0V0z\" fill=\"none\"/>\n",
              "    <path d=\"M18.56 5.44l.94 2.06.94-2.06 2.06-.94-2.06-.94-.94-2.06-.94 2.06-2.06.94zm-11 1L8.5 8.5l.94-2.06 2.06-.94-2.06-.94L8.5 2.5l-.94 2.06-2.06.94zm10 10l.94 2.06.94-2.06 2.06-.94-2.06-.94-.94-2.06-.94 2.06-2.06.94z\"/><path d=\"M17.41 7.96l-1.37-1.37c-.4-.4-.92-.59-1.43-.59-.52 0-1.04.2-1.43.59L10.3 9.45l-7.72 7.72c-.78.78-.78 2.05 0 2.83L4 21.41c.39.39.9.59 1.41.59.51 0 1.02-.2 1.41-.59l7.78-7.78 2.81-2.81c.8-.78.8-2.07 0-2.86zM5.41 20L4 18.59l7.72-7.72 1.47 1.35L5.41 20z\"/>\n",
              "  </svg>\n",
              "      </button>\n",
              "      \n",
              "  <style>\n",
              "    .colab-df-container {\n",
              "      display:flex;\n",
              "      flex-wrap:wrap;\n",
              "      gap: 12px;\n",
              "    }\n",
              "\n",
              "    .colab-df-convert {\n",
              "      background-color: #E8F0FE;\n",
              "      border: none;\n",
              "      border-radius: 50%;\n",
              "      cursor: pointer;\n",
              "      display: none;\n",
              "      fill: #1967D2;\n",
              "      height: 32px;\n",
              "      padding: 0 0 0 0;\n",
              "      width: 32px;\n",
              "    }\n",
              "\n",
              "    .colab-df-convert:hover {\n",
              "      background-color: #E2EBFA;\n",
              "      box-shadow: 0px 1px 2px rgba(60, 64, 67, 0.3), 0px 1px 3px 1px rgba(60, 64, 67, 0.15);\n",
              "      fill: #174EA6;\n",
              "    }\n",
              "\n",
              "    [theme=dark] .colab-df-convert {\n",
              "      background-color: #3B4455;\n",
              "      fill: #D2E3FC;\n",
              "    }\n",
              "\n",
              "    [theme=dark] .colab-df-convert:hover {\n",
              "      background-color: #434B5C;\n",
              "      box-shadow: 0px 1px 3px 1px rgba(0, 0, 0, 0.15);\n",
              "      filter: drop-shadow(0px 1px 2px rgba(0, 0, 0, 0.3));\n",
              "      fill: #FFFFFF;\n",
              "    }\n",
              "  </style>\n",
              "\n",
              "      <script>\n",
              "        const buttonEl =\n",
              "          document.querySelector('#df-a14f683e-9d18-4541-b5a2-d188c4e45f56 button.colab-df-convert');\n",
              "        buttonEl.style.display =\n",
              "          google.colab.kernel.accessAllowed ? 'block' : 'none';\n",
              "\n",
              "        async function convertToInteractive(key) {\n",
              "          const element = document.querySelector('#df-a14f683e-9d18-4541-b5a2-d188c4e45f56');\n",
              "          const dataTable =\n",
              "            await google.colab.kernel.invokeFunction('convertToInteractive',\n",
              "                                                     [key], {});\n",
              "          if (!dataTable) return;\n",
              "\n",
              "          const docLinkHtml = 'Like what you see? Visit the ' +\n",
              "            '<a target=\"_blank\" href=https://colab.research.google.com/notebooks/data_table.ipynb>data table notebook</a>'\n",
              "            + ' to learn more about interactive tables.';\n",
              "          element.innerHTML = '';\n",
              "          dataTable['output_type'] = 'display_data';\n",
              "          await google.colab.output.renderOutput(dataTable, element);\n",
              "          const docLink = document.createElement('div');\n",
              "          docLink.innerHTML = docLinkHtml;\n",
              "          element.appendChild(docLink);\n",
              "        }\n",
              "      </script>\n",
              "    </div>\n",
              "  </div>\n",
              "  "
            ]
          },
          "metadata": {},
          "execution_count": 24
        }
      ]
    },
    {
      "cell_type": "code",
      "metadata": {
        "id": "L5GKKJT-pRgg",
        "colab": {
          "base_uri": "https://localhost:8080/",
          "height": 263
        },
        "outputId": "5beab8a8-20e1-4930-f80c-ae12adfc09c1"
      },
      "source": [
        "agg_dfs = []\n",
        "\n",
        "def get_agg_df(df, group_col):\n",
        "\n",
        "    agg_df, agg_cols = aggregation(df,\n",
        "                        group_key=group_col,\n",
        "                        group_values=['最寄駅：距離（分）', '面積（㎡）', '建ぺい率（％）', '容積率（％）'],\n",
        "                        agg_methods=['count', 'mean', 'min', 'max'],\n",
        "                        )\n",
        "\n",
        "    return agg_df[agg_cols]\n",
        "\n",
        "group_col = '市区町村名'\n",
        "agg_dfs.append(get_agg_df(df, group_col))\n",
        "agg_dfs[0].head(2)"
      ],
      "execution_count": 25,
      "outputs": [
        {
          "output_type": "execute_result",
          "data": {
            "text/plain": [
              "   agg_count_最寄駅：距離（分）_grpby_市区町村名  agg_count_面積（㎡）_grpby_市区町村名  \\\n",
              "0                             5028                         5216   \n",
              "1                            11896                        12360   \n",
              "\n",
              "   agg_count_建ぺい率（％）_grpby_市区町村名  agg_count_容積率（％）_grpby_市区町村名  \\\n",
              "0                           5164                          5164   \n",
              "1                          12151                         12151   \n",
              "\n",
              "   agg_mean_最寄駅：距離（分）_grpby_市区町村名  agg_mean_面積（㎡）_grpby_市区町村名  \\\n",
              "0                        8.055489                   45.200345   \n",
              "1                        6.254960                   51.052184   \n",
              "\n",
              "   agg_mean_建ぺい率（％）_grpby_市区町村名  agg_mean_容積率（％）_grpby_市区町村名  \\\n",
              "0                     67.013943                   307.774981   \n",
              "1                     70.036211                   443.679533   \n",
              "\n",
              "   agg_min_最寄駅：距離（分）_grpby_市区町村名  agg_min_面積（㎡）_grpby_市区町村名  \\\n",
              "0                            0.0                         10   \n",
              "1                            0.0                         10   \n",
              "\n",
              "   agg_min_建ぺい率（％）_grpby_市区町村名  agg_min_容積率（％）_grpby_市区町村名  \\\n",
              "0                         50.0                       100.0   \n",
              "1                         50.0                       100.0   \n",
              "\n",
              "   agg_max_最寄駅：距離（分）_grpby_市区町村名  agg_max_面積（㎡）_grpby_市区町村名  \\\n",
              "0                          105.0                        450   \n",
              "1                          120.0                       1500   \n",
              "\n",
              "   agg_max_建ぺい率（％）_grpby_市区町村名  agg_max_容積率（％）_grpby_市区町村名  \n",
              "0                         80.0                       700.0  \n",
              "1                         80.0                      1300.0  "
            ],
            "text/html": [
              "\n",
              "  <div id=\"df-2bb641d8-782a-4189-b289-c6c54f7b4652\">\n",
              "    <div class=\"colab-df-container\">\n",
              "      <div>\n",
              "<style scoped>\n",
              "    .dataframe tbody tr th:only-of-type {\n",
              "        vertical-align: middle;\n",
              "    }\n",
              "\n",
              "    .dataframe tbody tr th {\n",
              "        vertical-align: top;\n",
              "    }\n",
              "\n",
              "    .dataframe thead th {\n",
              "        text-align: right;\n",
              "    }\n",
              "</style>\n",
              "<table border=\"1\" class=\"dataframe\">\n",
              "  <thead>\n",
              "    <tr style=\"text-align: right;\">\n",
              "      <th></th>\n",
              "      <th>agg_count_最寄駅：距離（分）_grpby_市区町村名</th>\n",
              "      <th>agg_count_面積（㎡）_grpby_市区町村名</th>\n",
              "      <th>agg_count_建ぺい率（％）_grpby_市区町村名</th>\n",
              "      <th>agg_count_容積率（％）_grpby_市区町村名</th>\n",
              "      <th>agg_mean_最寄駅：距離（分）_grpby_市区町村名</th>\n",
              "      <th>agg_mean_面積（㎡）_grpby_市区町村名</th>\n",
              "      <th>agg_mean_建ぺい率（％）_grpby_市区町村名</th>\n",
              "      <th>agg_mean_容積率（％）_grpby_市区町村名</th>\n",
              "      <th>agg_min_最寄駅：距離（分）_grpby_市区町村名</th>\n",
              "      <th>agg_min_面積（㎡）_grpby_市区町村名</th>\n",
              "      <th>agg_min_建ぺい率（％）_grpby_市区町村名</th>\n",
              "      <th>agg_min_容積率（％）_grpby_市区町村名</th>\n",
              "      <th>agg_max_最寄駅：距離（分）_grpby_市区町村名</th>\n",
              "      <th>agg_max_面積（㎡）_grpby_市区町村名</th>\n",
              "      <th>agg_max_建ぺい率（％）_grpby_市区町村名</th>\n",
              "      <th>agg_max_容積率（％）_grpby_市区町村名</th>\n",
              "    </tr>\n",
              "  </thead>\n",
              "  <tbody>\n",
              "    <tr>\n",
              "      <th>0</th>\n",
              "      <td>5028</td>\n",
              "      <td>5216</td>\n",
              "      <td>5164</td>\n",
              "      <td>5164</td>\n",
              "      <td>8.055489</td>\n",
              "      <td>45.200345</td>\n",
              "      <td>67.013943</td>\n",
              "      <td>307.774981</td>\n",
              "      <td>0.0</td>\n",
              "      <td>10</td>\n",
              "      <td>50.0</td>\n",
              "      <td>100.0</td>\n",
              "      <td>105.0</td>\n",
              "      <td>450</td>\n",
              "      <td>80.0</td>\n",
              "      <td>700.0</td>\n",
              "    </tr>\n",
              "    <tr>\n",
              "      <th>1</th>\n",
              "      <td>11896</td>\n",
              "      <td>12360</td>\n",
              "      <td>12151</td>\n",
              "      <td>12151</td>\n",
              "      <td>6.254960</td>\n",
              "      <td>51.052184</td>\n",
              "      <td>70.036211</td>\n",
              "      <td>443.679533</td>\n",
              "      <td>0.0</td>\n",
              "      <td>10</td>\n",
              "      <td>50.0</td>\n",
              "      <td>100.0</td>\n",
              "      <td>120.0</td>\n",
              "      <td>1500</td>\n",
              "      <td>80.0</td>\n",
              "      <td>1300.0</td>\n",
              "    </tr>\n",
              "  </tbody>\n",
              "</table>\n",
              "</div>\n",
              "      <button class=\"colab-df-convert\" onclick=\"convertToInteractive('df-2bb641d8-782a-4189-b289-c6c54f7b4652')\"\n",
              "              title=\"Convert this dataframe to an interactive table.\"\n",
              "              style=\"display:none;\">\n",
              "        \n",
              "  <svg xmlns=\"http://www.w3.org/2000/svg\" height=\"24px\"viewBox=\"0 0 24 24\"\n",
              "       width=\"24px\">\n",
              "    <path d=\"M0 0h24v24H0V0z\" fill=\"none\"/>\n",
              "    <path d=\"M18.56 5.44l.94 2.06.94-2.06 2.06-.94-2.06-.94-.94-2.06-.94 2.06-2.06.94zm-11 1L8.5 8.5l.94-2.06 2.06-.94-2.06-.94L8.5 2.5l-.94 2.06-2.06.94zm10 10l.94 2.06.94-2.06 2.06-.94-2.06-.94-.94-2.06-.94 2.06-2.06.94z\"/><path d=\"M17.41 7.96l-1.37-1.37c-.4-.4-.92-.59-1.43-.59-.52 0-1.04.2-1.43.59L10.3 9.45l-7.72 7.72c-.78.78-.78 2.05 0 2.83L4 21.41c.39.39.9.59 1.41.59.51 0 1.02-.2 1.41-.59l7.78-7.78 2.81-2.81c.8-.78.8-2.07 0-2.86zM5.41 20L4 18.59l7.72-7.72 1.47 1.35L5.41 20z\"/>\n",
              "  </svg>\n",
              "      </button>\n",
              "      \n",
              "  <style>\n",
              "    .colab-df-container {\n",
              "      display:flex;\n",
              "      flex-wrap:wrap;\n",
              "      gap: 12px;\n",
              "    }\n",
              "\n",
              "    .colab-df-convert {\n",
              "      background-color: #E8F0FE;\n",
              "      border: none;\n",
              "      border-radius: 50%;\n",
              "      cursor: pointer;\n",
              "      display: none;\n",
              "      fill: #1967D2;\n",
              "      height: 32px;\n",
              "      padding: 0 0 0 0;\n",
              "      width: 32px;\n",
              "    }\n",
              "\n",
              "    .colab-df-convert:hover {\n",
              "      background-color: #E2EBFA;\n",
              "      box-shadow: 0px 1px 2px rgba(60, 64, 67, 0.3), 0px 1px 3px 1px rgba(60, 64, 67, 0.15);\n",
              "      fill: #174EA6;\n",
              "    }\n",
              "\n",
              "    [theme=dark] .colab-df-convert {\n",
              "      background-color: #3B4455;\n",
              "      fill: #D2E3FC;\n",
              "    }\n",
              "\n",
              "    [theme=dark] .colab-df-convert:hover {\n",
              "      background-color: #434B5C;\n",
              "      box-shadow: 0px 1px 3px 1px rgba(0, 0, 0, 0.15);\n",
              "      filter: drop-shadow(0px 1px 2px rgba(0, 0, 0, 0.3));\n",
              "      fill: #FFFFFF;\n",
              "    }\n",
              "  </style>\n",
              "\n",
              "      <script>\n",
              "        const buttonEl =\n",
              "          document.querySelector('#df-2bb641d8-782a-4189-b289-c6c54f7b4652 button.colab-df-convert');\n",
              "        buttonEl.style.display =\n",
              "          google.colab.kernel.accessAllowed ? 'block' : 'none';\n",
              "\n",
              "        async function convertToInteractive(key) {\n",
              "          const element = document.querySelector('#df-2bb641d8-782a-4189-b289-c6c54f7b4652');\n",
              "          const dataTable =\n",
              "            await google.colab.kernel.invokeFunction('convertToInteractive',\n",
              "                                                     [key], {});\n",
              "          if (!dataTable) return;\n",
              "\n",
              "          const docLinkHtml = 'Like what you see? Visit the ' +\n",
              "            '<a target=\"_blank\" href=https://colab.research.google.com/notebooks/data_table.ipynb>data table notebook</a>'\n",
              "            + ' to learn more about interactive tables.';\n",
              "          element.innerHTML = '';\n",
              "          dataTable['output_type'] = 'display_data';\n",
              "          await google.colab.output.renderOutput(dataTable, element);\n",
              "          const docLink = document.createElement('div');\n",
              "          docLink.innerHTML = docLinkHtml;\n",
              "          element.appendChild(docLink);\n",
              "        }\n",
              "      </script>\n",
              "    </div>\n",
              "  </div>\n",
              "  "
            ]
          },
          "metadata": {},
          "execution_count": 25
        }
      ]
    },
    {
      "cell_type": "code",
      "metadata": {
        "id": "SyT-F_j9pRgh",
        "colab": {
          "base_uri": "https://localhost:8080/"
        },
        "outputId": "ca825f16-f40d-47ca-820b-45f998b462a0"
      },
      "source": [
        "feat_df = pd.concat([num_df,le_df,num_comb_df]+agg_dfs, axis=1)\n",
        "print(feat_df.shape)"
      ],
      "execution_count": 26,
      "outputs": [
        {
          "output_type": "stream",
          "name": "stdout",
          "text": [
            "(758115, 38)\n"
          ]
        }
      ]
    },
    {
      "cell_type": "code",
      "source": [
        "feat_df.head(5);"
      ],
      "metadata": {
        "id": "66uRc6pTwfAQ"
      },
      "execution_count": null,
      "outputs": []
    },
    {
      "cell_type": "code",
      "metadata": {
        "id": "PBZeWFmVpRgh",
        "colab": {
          "base_uri": "https://localhost:8080/"
        },
        "outputId": "c129888f-a2f5-42dc-9253-ec33e639e609"
      },
      "source": [
        "feat_df.dtypes"
      ],
      "execution_count": 27,
      "outputs": [
        {
          "output_type": "execute_result",
          "data": {
            "text/plain": [
              "ID                                   int64\n",
              "最寄駅：距離（分）                          float64\n",
              "面積（㎡）                                int64\n",
              "建築年                                float64\n",
              "建ぺい率（％）                            float64\n",
              "容積率（％）                             float64\n",
              "取引価格（総額）_log                       float64\n",
              "取引時点_enc                             int64\n",
              "都道府県名_te                           float64\n",
              "取引時点_何年前                             int64\n",
              "都道府県名                                int64\n",
              "市区町村名                                int64\n",
              "地区名                                  int64\n",
              "最寄駅：名称                               int64\n",
              "間取り                                  int64\n",
              "建物の構造                                int64\n",
              "用途                                   int64\n",
              "今後の利用目的                              int64\n",
              "都市計画                                 int64\n",
              "改装                                   int64\n",
              "取引の事情等                               int64\n",
              "面積（㎡）容積率（％）_combi                  float64\n",
              "agg_count_最寄駅：距離（分）_grpby_市区町村名      int64\n",
              "agg_count_面積（㎡）_grpby_市区町村名          int64\n",
              "agg_count_建ぺい率（％）_grpby_市区町村名        int64\n",
              "agg_count_容積率（％）_grpby_市区町村名         int64\n",
              "agg_mean_最寄駅：距離（分）_grpby_市区町村名     float64\n",
              "agg_mean_面積（㎡）_grpby_市区町村名         float64\n",
              "agg_mean_建ぺい率（％）_grpby_市区町村名       float64\n",
              "agg_mean_容積率（％）_grpby_市区町村名        float64\n",
              "agg_min_最寄駅：距離（分）_grpby_市区町村名      float64\n",
              "agg_min_面積（㎡）_grpby_市区町村名            int64\n",
              "agg_min_建ぺい率（％）_grpby_市区町村名        float64\n",
              "agg_min_容積率（％）_grpby_市区町村名         float64\n",
              "agg_max_最寄駅：距離（分）_grpby_市区町村名      float64\n",
              "agg_max_面積（㎡）_grpby_市区町村名            int64\n",
              "agg_max_建ぺい率（％）_grpby_市区町村名        float64\n",
              "agg_max_容積率（％）_grpby_市区町村名         float64\n",
              "dtype: object"
            ]
          },
          "metadata": {},
          "execution_count": 27
        }
      ]
    },
    {
      "cell_type": "markdown",
      "metadata": {
        "id": "gxbamqpbpRgh"
      },
      "source": [
        "---\n",
        "モデル構築"
      ]
    },
    {
      "cell_type": "code",
      "metadata": {
        "id": "ivwB08IrpRgh",
        "colab": {
          "base_uri": "https://localhost:8080/"
        },
        "outputId": "4bad0090-0376-4093-9acf-c97a31a3ba2d"
      },
      "source": [
        "train_df = feat_df.iloc[:val_min_idx, :]\n",
        "val_df = feat_df.iloc[val_min_idx:test_min_idx, :]\n",
        "test_df = feat_df.iloc[test_min_idx:, :]\n",
        "print(train_df.shape, val_df.shape, test_df.shape)"
      ],
      "execution_count": 28,
      "outputs": [
        {
          "output_type": "stream",
          "name": "stdout",
          "text": [
            "(707966, 38) (28744, 38) (21405, 38)\n"
          ]
        }
      ]
    },
    {
      "cell_type": "code",
      "metadata": {
        "id": "QAQjmbAypRgi"
      },
      "source": [
        "feat_cols = [col for col in train_df.columns if col not in rm_cols+[ID, TARGET]]"
      ],
      "execution_count": 29,
      "outputs": []
    },
    {
      "cell_type": "code",
      "metadata": {
        "id": "7j7QCTotpRgi",
        "colab": {
          "base_uri": "https://localhost:8080/"
        },
        "outputId": "ce7e7e6a-48f7-4040-8398-f68655c89b4f"
      },
      "source": [
        "cat_cols = list(le_df.columns) + ['取引時点_enc']\n",
        "cat_cols"
      ],
      "execution_count": 30,
      "outputs": [
        {
          "output_type": "execute_result",
          "data": {
            "text/plain": [
              "['都道府県名',\n",
              " '市区町村名',\n",
              " '地区名',\n",
              " '最寄駅：名称',\n",
              " '間取り',\n",
              " '建物の構造',\n",
              " '用途',\n",
              " '今後の利用目的',\n",
              " '都市計画',\n",
              " '改装',\n",
              " '取引の事情等',\n",
              " '取引時点_enc']"
            ]
          },
          "metadata": {},
          "execution_count": 30
        }
      ]
    },
    {
      "cell_type": "code",
      "metadata": {
        "id": "IRMpya2wpRgi"
      },
      "source": [
        "train_x = train_df[feat_cols]\n",
        "train_y = train_df[TARGET]\n",
        "val_x = val_df[feat_cols]\n",
        "val_y = val_df[TARGET]\n",
        "test_x = test_df[feat_cols]\n",
        "test_y = test_df[TARGET]"
      ],
      "execution_count": 31,
      "outputs": []
    },
    {
      "cell_type": "code",
      "metadata": {
        "id": "4Y5EH9v3pRgi",
        "colab": {
          "base_uri": "https://localhost:8080/"
        },
        "outputId": "f2bdeecf-e990-4d5b-ed19-4accfed29ce2"
      },
      "source": [
        "SEED = 0\n",
        "\n",
        "params = {\n",
        "    'objective': 'regression',\n",
        "    'metric': 'mae',\n",
        "    'num_leaves': 42,\n",
        "    'max_depth': 7,\n",
        "    \"feature_fraction\": 0.8,\n",
        "    'subsample_freq': 1,\n",
        "    \"bagging_fraction\": 0.95,\n",
        "    'min_data_in_leaf': 2,\n",
        "    'learning_rate': 0.01,\n",
        "    \"boosting\": \"gbdt\",\n",
        "    \"lambda_l1\": 0.1,\n",
        "    \"lambda_l2\": 10,\n",
        "    \"verbosity\": -1,\n",
        "    \"random_state\": 42,\n",
        "    \"num_boost_round\": 500000,\n",
        "    \"early_stopping_rounds\": 100\n",
        "}\n",
        "\n",
        "train_data = lgb.Dataset(train_x, label=train_y)\n",
        "val_data = lgb.Dataset(val_x, label=val_y)\n",
        "\n",
        "model = lgb.train(\n",
        "    params,\n",
        "    train_data, \n",
        "    categorical_feature = cat_cols,\n",
        "    valid_names = ['train', 'valid'],\n",
        "    valid_sets =[train_data, val_data], \n",
        "    verbose_eval = 100,\n",
        ")\n",
        "\n",
        "val_pred = model.predict(val_x, num_iteration=model.best_iteration)\n",
        "score = mean_absolute_error(val_y, val_pred)\n",
        "\n",
        "pred_df = pd.DataFrame(sorted(zip(val_x.index, val_pred, val_y)), columns=['index', 'predict', 'actual'])\n",
        "\n",
        "feature_imp = pd.DataFrame(sorted(zip(model.feature_importance(), train_x.columns)), columns=['importance', 'feature'])\n",
        "\n",
        "print(f'score: {score:.4f}')"
      ],
      "execution_count": 32,
      "outputs": [
        {
          "output_type": "stream",
          "name": "stderr",
          "text": [
            "/usr/local/lib/python3.8/dist-packages/lightgbm/engine.py:118: UserWarning: Found `num_boost_round` in params. Will use it instead of argument\n",
            "  warnings.warn(\"Found `{}` in params. Will use it instead of argument\".format(alias))\n",
            "/usr/local/lib/python3.8/dist-packages/lightgbm/engine.py:123: UserWarning: Found `early_stopping_rounds` in params. Will use it instead of argument\n",
            "  warnings.warn(\"Found `{}` in params. Will use it instead of argument\".format(alias))\n",
            "/usr/local/lib/python3.8/dist-packages/lightgbm/basic.py:1208: UserWarning: categorical_feature in Dataset is overridden.\n",
            "New categorical_feature is ['今後の利用目的', '取引の事情等', '取引時点_enc', '地区名', '市区町村名', '建物の構造', '改装', '最寄駅：名称', '用途', '都市計画', '都道府県名', '間取り']\n",
            "  warnings.warn('categorical_feature in Dataset is overridden.\\n'\n",
            "/usr/local/lib/python3.8/dist-packages/lightgbm/basic.py:762: UserWarning: categorical_feature in param dict is overridden.\n",
            "  warnings.warn('categorical_feature in param dict is overridden.')\n"
          ]
        },
        {
          "output_type": "stream",
          "name": "stdout",
          "text": [
            "Training until validation scores don't improve for 100 rounds.\n",
            "[100]\ttrain's l1: 0.156374\tvalid's l1: 0.176458\n",
            "[200]\ttrain's l1: 0.113909\tvalid's l1: 0.13416\n",
            "[300]\ttrain's l1: 0.0976322\tvalid's l1: 0.118103\n",
            "[400]\ttrain's l1: 0.0901726\tvalid's l1: 0.110902\n",
            "[500]\ttrain's l1: 0.086414\tvalid's l1: 0.107676\n",
            "[600]\ttrain's l1: 0.0842879\tvalid's l1: 0.105736\n",
            "[700]\ttrain's l1: 0.0826538\tvalid's l1: 0.104351\n",
            "[800]\ttrain's l1: 0.0814166\tvalid's l1: 0.103078\n",
            "[900]\ttrain's l1: 0.0804565\tvalid's l1: 0.101988\n",
            "[1000]\ttrain's l1: 0.0796511\tvalid's l1: 0.101112\n",
            "[1100]\ttrain's l1: 0.0789875\tvalid's l1: 0.100449\n",
            "[1200]\ttrain's l1: 0.0784861\tvalid's l1: 0.0999082\n",
            "[1300]\ttrain's l1: 0.0780128\tvalid's l1: 0.0994234\n",
            "[1400]\ttrain's l1: 0.0775929\tvalid's l1: 0.0990628\n",
            "[1500]\ttrain's l1: 0.0771725\tvalid's l1: 0.0987629\n",
            "[1600]\ttrain's l1: 0.0768214\tvalid's l1: 0.0984421\n",
            "[1700]\ttrain's l1: 0.0764895\tvalid's l1: 0.0981581\n",
            "[1800]\ttrain's l1: 0.0761806\tvalid's l1: 0.0979748\n",
            "[1900]\ttrain's l1: 0.07588\tvalid's l1: 0.0977218\n",
            "[2000]\ttrain's l1: 0.0755793\tvalid's l1: 0.0975247\n",
            "[2100]\ttrain's l1: 0.0753373\tvalid's l1: 0.097347\n",
            "[2200]\ttrain's l1: 0.0750606\tvalid's l1: 0.0970999\n",
            "[2300]\ttrain's l1: 0.0748143\tvalid's l1: 0.0969708\n",
            "[2400]\ttrain's l1: 0.0745854\tvalid's l1: 0.0968307\n",
            "[2500]\ttrain's l1: 0.0743819\tvalid's l1: 0.096731\n",
            "[2600]\ttrain's l1: 0.0741726\tvalid's l1: 0.0965802\n",
            "[2700]\ttrain's l1: 0.0739543\tvalid's l1: 0.0964952\n",
            "[2800]\ttrain's l1: 0.073778\tvalid's l1: 0.0963706\n",
            "[2900]\ttrain's l1: 0.0735727\tvalid's l1: 0.0962442\n",
            "[3000]\ttrain's l1: 0.073384\tvalid's l1: 0.0961079\n",
            "[3100]\ttrain's l1: 0.0732255\tvalid's l1: 0.0959819\n",
            "[3200]\ttrain's l1: 0.0730576\tvalid's l1: 0.0958721\n",
            "[3300]\ttrain's l1: 0.0729021\tvalid's l1: 0.0958051\n",
            "[3400]\ttrain's l1: 0.0727285\tvalid's l1: 0.0956463\n",
            "[3500]\ttrain's l1: 0.072586\tvalid's l1: 0.0956241\n",
            "[3600]\ttrain's l1: 0.072458\tvalid's l1: 0.0955409\n",
            "[3700]\ttrain's l1: 0.072324\tvalid's l1: 0.095455\n",
            "[3800]\ttrain's l1: 0.0721843\tvalid's l1: 0.0953662\n",
            "[3900]\ttrain's l1: 0.0720497\tvalid's l1: 0.0952815\n",
            "[4000]\ttrain's l1: 0.0719161\tvalid's l1: 0.0952211\n",
            "[4100]\ttrain's l1: 0.0718086\tvalid's l1: 0.0951642\n",
            "[4200]\ttrain's l1: 0.0717027\tvalid's l1: 0.0950722\n",
            "[4300]\ttrain's l1: 0.0715978\tvalid's l1: 0.0950253\n",
            "[4400]\ttrain's l1: 0.0714989\tvalid's l1: 0.094971\n",
            "[4500]\ttrain's l1: 0.0713943\tvalid's l1: 0.0949135\n",
            "[4600]\ttrain's l1: 0.0712982\tvalid's l1: 0.0948441\n",
            "[4700]\ttrain's l1: 0.0711958\tvalid's l1: 0.0947749\n",
            "[4800]\ttrain's l1: 0.0711125\tvalid's l1: 0.0947481\n",
            "[4900]\ttrain's l1: 0.0710327\tvalid's l1: 0.0947106\n",
            "[5000]\ttrain's l1: 0.0709403\tvalid's l1: 0.0946709\n",
            "[5100]\ttrain's l1: 0.0708515\tvalid's l1: 0.0946415\n",
            "[5200]\ttrain's l1: 0.0707733\tvalid's l1: 0.0946013\n",
            "[5300]\ttrain's l1: 0.0706793\tvalid's l1: 0.0945846\n",
            "[5400]\ttrain's l1: 0.0706038\tvalid's l1: 0.0945529\n",
            "[5500]\ttrain's l1: 0.070521\tvalid's l1: 0.0944923\n",
            "[5600]\ttrain's l1: 0.0704389\tvalid's l1: 0.0944515\n",
            "[5700]\ttrain's l1: 0.0703471\tvalid's l1: 0.0944199\n",
            "[5800]\ttrain's l1: 0.0702654\tvalid's l1: 0.0944024\n",
            "[5900]\ttrain's l1: 0.0701942\tvalid's l1: 0.0943824\n",
            "[6000]\ttrain's l1: 0.0701179\tvalid's l1: 0.0943411\n",
            "[6100]\ttrain's l1: 0.0700382\tvalid's l1: 0.0943302\n",
            "[6200]\ttrain's l1: 0.0699697\tvalid's l1: 0.0943182\n",
            "[6300]\ttrain's l1: 0.069904\tvalid's l1: 0.0942775\n",
            "[6400]\ttrain's l1: 0.0698318\tvalid's l1: 0.0942569\n",
            "[6500]\ttrain's l1: 0.0697745\tvalid's l1: 0.0942447\n",
            "[6600]\ttrain's l1: 0.0697033\tvalid's l1: 0.0942067\n",
            "[6700]\ttrain's l1: 0.0696317\tvalid's l1: 0.0941821\n",
            "[6800]\ttrain's l1: 0.0695641\tvalid's l1: 0.0941503\n",
            "[6900]\ttrain's l1: 0.0694975\tvalid's l1: 0.0941257\n",
            "[7000]\ttrain's l1: 0.0694418\tvalid's l1: 0.0941037\n",
            "[7100]\ttrain's l1: 0.0693688\tvalid's l1: 0.0940635\n",
            "[7200]\ttrain's l1: 0.0693161\tvalid's l1: 0.0940469\n",
            "[7300]\ttrain's l1: 0.0692601\tvalid's l1: 0.0940218\n",
            "[7400]\ttrain's l1: 0.069207\tvalid's l1: 0.0940004\n",
            "[7500]\ttrain's l1: 0.0691451\tvalid's l1: 0.0939809\n",
            "[7600]\ttrain's l1: 0.0690919\tvalid's l1: 0.0939621\n",
            "[7700]\ttrain's l1: 0.0690422\tvalid's l1: 0.0939512\n",
            "[7800]\ttrain's l1: 0.068983\tvalid's l1: 0.0939429\n",
            "[7900]\ttrain's l1: 0.0689347\tvalid's l1: 0.0939277\n",
            "[8000]\ttrain's l1: 0.0688733\tvalid's l1: 0.0939002\n",
            "[8100]\ttrain's l1: 0.0688198\tvalid's l1: 0.0938856\n",
            "[8200]\ttrain's l1: 0.0687685\tvalid's l1: 0.0938747\n",
            "[8300]\ttrain's l1: 0.068711\tvalid's l1: 0.0938553\n",
            "[8400]\ttrain's l1: 0.0686641\tvalid's l1: 0.0938362\n",
            "[8500]\ttrain's l1: 0.0686085\tvalid's l1: 0.0938327\n",
            "[8600]\ttrain's l1: 0.0685597\tvalid's l1: 0.0938245\n",
            "[8700]\ttrain's l1: 0.068507\tvalid's l1: 0.0938166\n",
            "[8800]\ttrain's l1: 0.0684626\tvalid's l1: 0.0938141\n",
            "[8900]\ttrain's l1: 0.068415\tvalid's l1: 0.0937984\n",
            "[9000]\ttrain's l1: 0.0683675\tvalid's l1: 0.0937926\n",
            "[9100]\ttrain's l1: 0.0683196\tvalid's l1: 0.0937859\n",
            "Early stopping, best iteration is:\n",
            "[9086]\ttrain's l1: 0.0683278\tvalid's l1: 0.0937793\n",
            "score: 0.0918\n"
          ]
        }
      ]
    },
    {
      "cell_type": "code",
      "metadata": {
        "id": "kTPeagN2pRgi",
        "colab": {
          "base_uri": "https://localhost:8080/",
          "height": 581
        },
        "outputId": "6b626ff5-d441-4e3e-bcfd-1d16492e363c"
      },
      "source": [
        "lgb.plot_importance(model, figsize=(12,8), max_num_features=50, importance_type='gain')\n",
        "plt.tight_layout()\n",
        "plt.savefig('output/feature_importance.png')\n",
        "plt.show()\n",
        "plt.close()"
      ],
      "execution_count": 33,
      "outputs": [
        {
          "output_type": "display_data",
          "data": {
            "text/plain": [
              "<Figure size 864x576 with 1 Axes>"
            ],
            "image/png": "[encoded data removed]"
          },
          "metadata": {}
        }
      ]
    },
    {
      "cell_type": "code",
      "metadata": {
        "id": "fGbXh6MLpRgj"
      },
      "source": [
        "test_pred = model.predict(test_x, num_iteration=model.best_iteration)"
      ],
      "execution_count": 34,
      "outputs": []
    },
    {
      "cell_type": "code",
      "metadata": {
        "id": "NLU97x851i2R",
        "colab": {
          "base_uri": "https://localhost:8080/"
        },
        "outputId": "3de37e64-18e9-4d45-88af-c3e137ddbc8e"
      },
      "source": [
        "test_df[TARGET] = test_pred"
      ],
      "execution_count": 35,
      "outputs": [
        {
          "output_type": "stream",
          "name": "stderr",
          "text": [
            "<ipython-input-35-c7d24f824a6c>:1: SettingWithCopyWarning: \n",
            "A value is trying to be set on a copy of a slice from a DataFrame.\n",
            "Try using .loc[row_indexer,col_indexer] = value instead\n",
            "\n",
            "See the caveats in the documentation: https://pandas.pydata.org/pandas-docs/stable/user_guide/indexing.html#returning-a-view-versus-a-copy\n",
            "  test_df[TARGET] = test_pred\n"
          ]
        }
      ]
    },
    {
      "cell_type": "code",
      "metadata": {
        "id": "1Uda2xkDpRgj"
      },
      "source": [
        "sub_df = pd.merge(sub_df[['ID']], test_df[['ID', TARGET]], on='ID')\n",
        "sub_df.to_csv('output/test_submission.csv', index=False)"
      ],
      "execution_count": 36,
      "outputs": []
    },
    {
      "cell_type": "code",
      "metadata": {
        "id": "EZmWl0a4nqx1"
      },
      "source": [],
      "execution_count": null,
      "outputs": []
    }
  ]
}